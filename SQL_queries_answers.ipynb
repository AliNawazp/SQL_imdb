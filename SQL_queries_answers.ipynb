{
 "cells": [
  {
   "cell_type": "code",
   "execution_count": 1,
   "id": "d3ecb56d",
   "metadata": {},
   "outputs": [],
   "source": [
    "import pandas as pd\n",
    "import sqlite3\n",
    "\n",
    "from IPython.display import display, HTML"
   ]
  },
  {
   "cell_type": "code",
   "execution_count": 2,
   "id": "e95c502f",
   "metadata": {},
   "outputs": [],
   "source": [
    "conn = sqlite3.connect(\"Db-IMDB-Assignment.db\")"
   ]
  },
  {
   "cell_type": "markdown",
   "id": "486df7a0",
   "metadata": {},
   "source": [
    "# 1"
   ]
  },
  {
   "cell_type": "code",
   "execution_count": 3,
   "id": "b07f56db",
   "metadata": {},
   "outputs": [
    {
     "name": "stdout",
     "output_type": "stream",
     "text": [
      "                                 title                    Name  Year\n",
      "0                           Mastizaade            Milap Zaveri  2016\n",
      "1    Harold & Kumar Go to White Castle            Danny Leiner  2004\n",
      "2                   Gangs of Wasseypur          Anurag Kashyap  2012\n",
      "3          Around the World in 80 Days            Frank Coraci  2004\n",
      "4               The Accidental Husband           Griffin Dunne  2008\n",
      "..                                 ...                     ...   ...\n",
      "227                        Let's Enjoy   Siddharth Anand Kumar  2004\n",
      "228                            Sathyam         Amma Rajasekhar  2008\n",
      "229                      Tandoori Love           Oliver Paulus  2008\n",
      "230                        Le Halua Le             Raja Chanda  2012\n",
      "231                  Raja Aur Rangeeli        K.S. Prakash Rao  1996\n",
      "\n",
      "[232 rows x 3 columns]\n",
      "(232, 3)\n",
      "Wall time: 187 ms\n"
     ]
    }
   ],
   "source": [
    "%%time\n",
    "def grader_1(q1):\n",
    "    q1_results  = pd.read_sql_query(q1,conn)\n",
    "    print(q1_results)\n",
    "    print(q1_results.shape)\n",
    "    assert (q1_results.shape == (232,3))\n",
    "\n",
    "                \n",
    "query1=\"\"\"SELECT M.title,P.Name,CAST(SUBSTR(TRIM(M.year),-4) AS INTEGER) Year FROM Person P INNER JOIN M_Director MD ON P.PID=MD.PID INNER JOIN Movie M ON M.MID=MD.MID INNER JOIN\n",
    "            M_GENRE MG ON MG.MID=M.MID INNER JOIN Genre G\n",
    "            ON MG.GID=G.GID\n",
    "            WHERE (lower(G.Name) LIKE '%comedy%') AND ((CAST(SUBSTR(TRIM(M.year),-4) AS INTEGER)%4 = 0 AND CAST(SUBSTR(TRIM(M.year),-4) AS INTEGER)%100 != 0) OR CAST(SUBSTR(TRIM(M.year),-4) AS INTEGER)%400 = 0)\"\"\"\n",
    "grader_1(query1)"
   ]
  },
  {
   "cell_type": "markdown",
   "id": "6bf9a843",
   "metadata": {},
   "source": [
    "# 2"
   ]
  },
  {
   "cell_type": "code",
   "execution_count": 4,
   "id": "0d17fa45",
   "metadata": {},
   "outputs": [
    {
     "name": "stdout",
     "output_type": "stream",
     "text": [
      "                 Name\n",
      "0    Amitabh Bachchan\n",
      "1       Rajesh Khanna\n",
      "2       Sumita Sanyal\n",
      "3          Ramesh Deo\n",
      "4           Seema Deo\n",
      "5      Asit Kumar Sen\n",
      "6          Dev Kishan\n",
      "7        Atam Prakash\n",
      "8       Lalita Kumari\n",
      "9              Savita\n",
      "10     Brahm Bhardwaj\n",
      "11       Gurnam Singh\n",
      "12       Lalita Pawar\n",
      "13        Durga Khote\n",
      "14         Dara Singh\n",
      "15      Johnny Walker\n",
      "16          Moolchand\n",
      "(17, 1)\n",
      "Wall time: 96.5 ms\n"
     ]
    }
   ],
   "source": [
    "%%time\n",
    "def grader_2(q2):\n",
    "    q2_results  = pd.read_sql_query(q2,conn)\n",
    "    print(q2_results)\n",
    "    print(q2_results.shape)\n",
    "    assert (q2_results.shape == (17,1))\n",
    "\n",
    "\n",
    "query2 = \"SELECT Name FROM Person WHERE PID IN (SELECT LTRIM(PID) FROM M_Cast WHERE MID IN(SELECT MID FROM Movie WHERE title LIKE 'Anand' AND year=1971))\"\n",
    "grader_2(query2)"
   ]
  },
  {
   "cell_type": "markdown",
   "id": "d6506b69",
   "metadata": {},
   "source": [
    "# 3"
   ]
  },
  {
   "cell_type": "code",
   "execution_count": 5,
   "id": "80c50c0d",
   "metadata": {},
   "outputs": [
    {
     "name": "stdout",
     "output_type": "stream",
     "text": [
      "(4942, 1)\n",
      "(62570, 1)\n",
      "True\n",
      "Wall time: 449 ms\n"
     ]
    }
   ],
   "source": [
    "%%time\n",
    "\n",
    "def grader_3a(query_less_1970, query_more_1990):\n",
    "    q3_a = pd.read_sql_query(query_less_1970,conn)\n",
    "    print(q3_a.shape)\n",
    "    q3_b = pd.read_sql_query(query_more_1990,conn)\n",
    "    print(q3_b.shape)\n",
    "    return (q3_a.shape == (4942,1)) and (q3_b.shape == (62570,1))\n",
    "\n",
    "query_less_1970 =\"\"\" \n",
    "Select p.PID from Person p \n",
    "inner join \n",
    "(\n",
    "    select trim(mc.PID) PD, mc.MID from M_cast mc \n",
    "where mc.MID \n",
    "in \n",
    "(\n",
    "    select mv.MID from Movie mv where CAST(SUBSTR(mv.year,-4) AS Integer)<1970\n",
    ")\n",
    ") r1 \n",
    "on r1.PD=p.PID \n",
    "\"\"\"\n",
    "query_more_1990 =\"\"\" \n",
    "Select p.PID from Person p \n",
    "inner join \n",
    "(\n",
    "    select trim(mc.PID) PD, mc.MID from M_cast mc \n",
    "where mc.MID \n",
    "in \n",
    "(\n",
    "    select mv.MID from Movie mv where CAST(SUBSTR(mv.year,-4) AS Integer)>1990\n",
    ")\n",
    ") r1 \n",
    "on r1.PD=p.PID \"\"\"\n",
    "print(grader_3a(query_less_1970, query_more_1990))\n",
    "\n",
    "# using the above two queries, you can find the answer to the given question "
   ]
  },
  {
   "cell_type": "code",
   "execution_count": 6,
   "id": "66b5878b",
   "metadata": {},
   "outputs": [
    {
     "name": "stdout",
     "output_type": "stream",
     "text": [
      "              Name\n",
      "0   Waheeda Rehman\n",
      "1    Johnny Walker\n",
      "2          Mehmood\n",
      "3            Ratna\n",
      "4   Rajendra Kumar\n",
      "5         Iftekhar\n",
      "6        Raj Mehra\n",
      "7     Lalita Pawar\n",
      "8   Achala Sachdev\n",
      "9       Sunil Dutt\n",
      "(300, 1)\n",
      "Wall time: 451 ms\n"
     ]
    }
   ],
   "source": [
    "%%time\n",
    "def grader_3(q3):\n",
    "    q3_results  = pd.read_sql_query(q3,conn)\n",
    "    print(q3_results.head(10))\n",
    "    print(q3_results.shape)\n",
    "    assert (q3_results.shape == (300,1))\n",
    "\n",
    "query3 = \"\"\"\n",
    "Select DISTINCT p.Name from Person p \n",
    "inner join \n",
    "(\n",
    "    select trim(mc.PID) PD, mc.MID from M_cast mc \n",
    "where mc.MID \n",
    "in \n",
    "(\n",
    "    select mv.MID from Movie mv where CAST(SUBSTR(mv.year,-4) AS Integer)<1970\n",
    ")\n",
    ") r1 \n",
    "on r1.PD=p.PID\n",
    "WHERE p.PID IN (Select p.PID from Person p \n",
    "inner join \n",
    "(\n",
    "    select trim(mc.PID) PD, mc.MID from M_cast mc \n",
    "where mc.MID \n",
    "in \n",
    "(\n",
    "    select mv.MID from Movie mv where CAST(SUBSTR(mv.year,-4) AS Integer)>1990\n",
    ")\n",
    ") r1 \n",
    "on r1.PD=p.PID)\"\"\"\n",
    "grader_3(query3)"
   ]
  },
  {
   "cell_type": "markdown",
   "id": "22d9b12e",
   "metadata": {},
   "source": [
    "# 4"
   ]
  },
  {
   "cell_type": "code",
   "execution_count": 7,
   "id": "be893bdb",
   "metadata": {},
   "outputs": [
    {
     "name": "stdout",
     "output_type": "stream",
     "text": [
      "  Director_Id  Movie_Count\n",
      "0   nm0000180            1\n",
      "1   nm0000187            1\n",
      "2   nm0000229            1\n",
      "3   nm0000269            1\n",
      "4   nm0000386            1\n",
      "5   nm0000487            2\n",
      "6   nm0000965            1\n",
      "7   nm0001060            1\n",
      "8   nm0001162            1\n",
      "9   nm0001241            1\n",
      "True\n",
      "Wall time: 17.6 ms\n"
     ]
    }
   ],
   "source": [
    "%%time\n",
    "\n",
    "def grader_4a(query_4a):\n",
    "    query_4a = pd.read_sql_query(query_4a,conn)\n",
    "    print(query_4a.head(10)) \n",
    "    return (query_4a.shape == (1462,2))\n",
    "\n",
    "\n",
    "#query_4a =\"\"\"SELECT PID Director_Id,COUNT(MID) Movie_Count FROM M_Director GROUP BY PID ORDER BY Movie_Count \"\"\"\n",
    "\n",
    "query_4a =\"\"\"SELECT PID Director_Id,COUNT(MID) Movie_Count FROM M_Director GROUP BY PID \"\"\"\n",
    "print(grader_4a(query_4a))"
   ]
  },
  {
   "cell_type": "code",
   "execution_count": 8,
   "id": "f9ab1bb8",
   "metadata": {},
   "outputs": [
    {
     "name": "stdout",
     "output_type": "stream",
     "text": [
      "                    Name   C\n",
      "0           David Dhawan  39\n",
      "1           Mahesh Bhatt  35\n",
      "2        Ram Gopal Varma  30\n",
      "3           Priyadarshan  30\n",
      "4           Vikram Bhatt  29\n",
      "5   Hrishikesh Mukherjee  27\n",
      "6            Yash Chopra  21\n",
      "7         Shakti Samanta  19\n",
      "8        Basu Chatterjee  19\n",
      "9           Subhash Ghai  18\n",
      "Wall time: 66.1 ms\n"
     ]
    }
   ],
   "source": [
    "%%time\n",
    "def grader_4(q4):\n",
    "    q4_results  = pd.read_sql_query(q4,conn)\n",
    "    print(q4_results.head(10))\n",
    "    assert (q4_results.shape == (58,2))\n",
    "\n",
    "query4 = \"\"\"SELECT P.Name,COUNT(MID) C FROM Person P INNER JOIN M_Director MD\n",
    "            ON P.PID=MD.PID GROUP BY MD.PID HAVING C>=10 ORDER BY C DESC\"\"\"\n",
    "grader_4(query4)"
   ]
  },
  {
   "cell_type": "markdown",
   "id": "a0471c1f",
   "metadata": {},
   "source": [
    "# 5 a"
   ]
  },
  {
   "cell_type": "code",
   "execution_count": 9,
   "id": "3460149d",
   "metadata": {},
   "outputs": [
    {
     "name": "stdout",
     "output_type": "stream",
     "text": [
      "         MID  Gender  COUNT(*)\n",
      "0  tt0021594    None         1\n",
      "1  tt0021594  Female         3\n",
      "2  tt0021594    Male         5\n",
      "3  tt0026274    None         2\n",
      "4  tt0026274  Female        11\n",
      "5  tt0026274    Male         9\n",
      "6  tt0027256    None         2\n",
      "7  tt0027256  Female         5\n",
      "8  tt0027256    Male         8\n",
      "9  tt0028217  Female         3\n",
      "True\n"
     ]
    }
   ],
   "source": [
    "def grader_5aa(query_5aa):\n",
    "    query_5aa = pd.read_sql_query(query_5aa,conn)\n",
    "    print(query_5aa.head(10)) \n",
    "    return (query_5aa.shape == (8846,3))\n",
    "\n",
    "query_5aa =\"\"\"SELECT MC.MID,P.Gender,COUNT(*) FROM Person P INNER JOIN M_Cast MC ON TRIM(MC.PID)=P.PID GROUP BY MC.MID,P.Gender\"\"\"\n",
    "\n",
    "print(grader_5aa(query_5aa))"
   ]
  },
  {
   "cell_type": "code",
   "execution_count": 10,
   "id": "1c3a9807",
   "metadata": {},
   "outputs": [
    {
     "name": "stdout",
     "output_type": "stream",
     "text": [
      "         MID Gender   C\n",
      "0  tt0021594   Male   5\n",
      "1  tt0026274   Male   9\n",
      "2  tt0027256   Male   8\n",
      "3  tt0028217   Male   7\n",
      "4  tt0031580   Male  27\n",
      "5  tt0033616   Male  46\n",
      "6  tt0036077   Male  11\n",
      "7  tt0038491   Male   7\n",
      "8  tt0039654   Male   6\n",
      "9  tt0040067   Male  10\n",
      "True\n"
     ]
    }
   ],
   "source": [
    "def grader_5ab(query_5ab):\n",
    "    query_5ab = pd.read_sql_query(query_5ab,conn)\n",
    "    print(query_5ab.head(10)) \n",
    "    return (query_5ab.shape == (3469, 3))\n",
    "\n",
    "query_5ab =\"\"\"SELECT MC.MID,P.Gender,COUNT(*) C FROM Person P INNER JOIN M_Cast MC ON TRIM(MC.PID)=P.PID GROUP BY MC.MID,P.Gender HAVING P.Gender='Male' \"\"\"\n",
    "\n",
    "print(grader_5ab(query_5ab))"
   ]
  },
  {
   "cell_type": "code",
   "execution_count": 11,
   "id": "73986237",
   "metadata": {},
   "outputs": [
    {
     "name": "stdout",
     "output_type": "stream",
     "text": [
      "   YEAR  FEMALE_CAST\n",
      "0  1939            1\n",
      "1  1999            1\n",
      "2  2000            1\n",
      "3  2018            1\n",
      "Wall time: 453 ms\n"
     ]
    }
   ],
   "source": [
    "%%time\n",
    "def grader_5a(q5a):\n",
    "    q5a_results  = pd.read_sql_query(q5a,conn)\n",
    "    print(q5a_results.head(10))\n",
    "    assert (q5a_results.shape == (4,2))\n",
    "\n",
    "query5a = \"\"\"  WITH T1 AS(\n",
    " SELECT MC.MID MOVIE_ID,COUNT(*) C FROM Person P INNER JOIN M_Cast MC ON TRIM(MC.PID)=P.PID GROUP BY MC.MID,P.GENDER HAVING P.GENDER='Female'),\n",
    " T2 AS(\n",
    " SELECT MC.MID MOVIE_ID,COUNT(*) C FROM Person P INNER JOIN M_Cast MC ON TRIM(MC.PID)=P.PID GROUP BY MC.MID)\n",
    " SELECT SUBSTR(TRIM(year),-4) YEAR ,COUNT(*) FEMALE_CAST FROM Movie M WHERE MID IN (SELECT T1.MOVIE_ID FROM T1 INNER JOIN T2 ON T1.MOVIE_ID=T2.MOVIE_ID WHERE T1.C=T2.C) GROUP BY YEAR\n",
    "\"\"\"\n",
    "grader_5a(query5a)"
   ]
  },
  {
   "cell_type": "markdown",
   "id": "54dcd6be",
   "metadata": {},
   "source": [
    "# 5b"
   ]
  },
  {
   "cell_type": "code",
   "execution_count": 12,
   "id": "37c8f642",
   "metadata": {},
   "outputs": [
    {
     "name": "stdout",
     "output_type": "stream",
     "text": [
      "   YEAR   PERCENT  TOTAL_MOVIE\n",
      "0  1939  0.500000            2\n",
      "1  1999  0.015152           66\n",
      "2  2000  0.015625           64\n",
      "3  2018  0.009615          104\n",
      "Wall time: 485 ms\n"
     ]
    }
   ],
   "source": [
    "%%time\n",
    "def grader_5b(q5b):\n",
    "    q5b_results  = pd.read_sql_query(q5b,conn)\n",
    "    print(q5b_results.head(10))\n",
    "    assert (q5b_results.shape == (4,3))\n",
    "\n",
    "query5b = \"\"\" WITH T1 AS(\n",
    "SELECT MC.MID MOVIE_ID,COUNT(*) C FROM Person P INNER JOIN M_Cast MC ON TRIM(MC.PID)=P.PID GROUP BY MC.MID,P.GENDER HAVING P.GENDER='Female'),\n",
    "T2 AS(\n",
    "SELECT MC.MID MOVIE_ID,COUNT(*) C FROM Person P INNER JOIN M_Cast MC ON TRIM(MC.PID)=P.PID GROUP BY MC.MID),\n",
    "T3 AS(\n",
    "SELECT SUBSTR(TRIM(year),-4) YEAR ,COUNT(*) FEMALE_CAST FROM Movie M WHERE MID IN (SELECT T1.MOVIE_ID FROM T1 INNER JOIN T2 ON T1.MOVIE_ID=T2.MOVIE_ID WHERE T1.C=T2.C) GROUP BY SUBSTR(TRIM(year),-4)),\n",
    "T4 AS(\n",
    "SELECT SUBSTR(TRIM(M.YEAR),-4) YEAR,T3.FEMALE_CAST FEMALE_CAST,COUNT(*) TOTAL_MOVIE FROM T3 INNER JOIN MOVIE M ON T3.YEAR=SUBSTR(TRIM(M.YEAR),-4) GROUP BY SUBSTR(TRIM(M.YEAR),-4),T3.FEMALE_CAST)\n",
    "SELECT YEAR,CAST(FEMALE_CAST AS FLOAT) / CAST(TOTAL_MOVIE AS FLOAT)AS PERCENT,TOTAL_MOVIE FROM T4\"\"\"\n",
    "grader_5b(query5b)"
   ]
  },
  {
   "cell_type": "markdown",
   "id": "bcb1b103",
   "metadata": {},
   "source": [
    "# 6"
   ]
  },
  {
   "cell_type": "code",
   "execution_count": 13,
   "id": "a9c23fbc",
   "metadata": {},
   "outputs": [
    {
     "name": "stdout",
     "output_type": "stream",
     "text": [
      "                        title    C\n",
      "0               Ocean's Eight  238\n",
      "1                    Apaharan  233\n",
      "2                        Gold  215\n",
      "3             My Name Is Khan  213\n",
      "4  Captain America: Civil War  191\n",
      "5                    Geostorm  170\n",
      "6                     Striker  165\n",
      "7                        2012  154\n",
      "8                      Pixels  144\n",
      "9       Yamla Pagla Deewana 2  140\n",
      "Wall time: 351 ms\n"
     ]
    }
   ],
   "source": [
    "%%time\n",
    "def grader_6(q6):\n",
    "    q6_results  = pd.read_sql_query(q6,conn)\n",
    "    print(q6_results.head(10))\n",
    "    assert (q6_results.shape == (3473, 2))\n",
    "\n",
    "query6 = \"\"\"SELECT M.title,COUNT(DISTINCT(MC.PID)) C FROM Movie M INNER JOIN M_Cast MC ON M.MID=MC.MID GROUP BY MC.MID  ORDER  BY C DESC\"\"\"\n",
    "grader_6(query6)"
   ]
  },
  {
   "cell_type": "markdown",
   "id": "eef4e906",
   "metadata": {},
   "source": [
    "# 7"
   ]
  },
  {
   "cell_type": "code",
   "execution_count": 14,
   "id": "d78a2500",
   "metadata": {},
   "outputs": [
    {
     "name": "stdout",
     "output_type": "stream",
     "text": [
      "   Movie_Year  Total_Movies\n",
      "0        1931             1\n",
      "1        1936             3\n",
      "2        1939             2\n",
      "3        1941             1\n",
      "4        1943             1\n",
      "..        ...           ...\n",
      "73       2016           129\n",
      "74       2017           126\n",
      "75       2018           104\n",
      "76       1964            15\n",
      "77       2009           109\n",
      "\n",
      "[78 rows x 2 columns]\n",
      "(78, 2)\n",
      "Wall time: 18.4 ms\n"
     ]
    }
   ],
   "source": [
    "%%time\n",
    "def grader_7a(q7a):\n",
    "    q7a_results  = pd.read_sql_query(q7a,conn)\n",
    "    print(q7a_results)\n",
    "    print(q7a_results.shape)\n",
    "    assert (q7a_results.shape == (78, 2))\n",
    "\n",
    "query7a = \"\"\"SELECT SUBSTR(Year,-4) Movie_Year,COUNT(Year) Total_Movies FROM Movie GROUP BY SUBSTR(Year,-4) ORDER BY Year\"\"\"\n",
    "grader_7a(query7a)"
   ]
  },
  {
   "cell_type": "code",
   "execution_count": 15,
   "id": "3ec36446",
   "metadata": {},
   "outputs": [
    {
     "name": "stdout",
     "output_type": "stream",
     "text": [
      "   Movie_Year_1  Total_Movies_1  Movie_Year_1  Total_Movies_1\n",
      "0          1931               1          1931               1\n",
      "1          1931               1          1936               3\n",
      "2          1931               1          1939               2\n",
      "3          1936               3          1936               3\n",
      "4          1936               3          1939               2\n",
      "5          1936               3          1941               1\n",
      "6          1936               3          1943               1\n",
      "7          1939               2          1939               2\n",
      "8          1939               2          1941               1\n",
      "9          1939               2          1943               1\n",
      "Wall time: 20.5 ms\n"
     ]
    }
   ],
   "source": [
    "%%time\n",
    "def grader_7b(q7b):\n",
    "    q7b_results  = pd.read_sql_query(q7b,conn)\n",
    "    print(q7b_results.head(10))\n",
    "    assert (q7b_results.shape == (713, 4))\n",
    "\n",
    "query7b = \"\"\"WITH T1 AS(\n",
    "SELECT CAST(SUBSTR(YEAR,-4) AS DECIMAL) Movie_Year_1,COUNT(*) Total_Movies_1 FROM Movie GROUP BY Movie_Year_1 ORDER BY Year)\n",
    "SELECT * FROM T1 T11,T1 T12 WHERE T12.Movie_Year_1<=T11.Movie_Year_1+ 9 AND T12.Movie_Year_1>=T11.Movie_Year_1 \"\"\"\n",
    "grader_7b(query7b)\n",
    "# if you see the below results the first movie year is less than 2nd movie year and \n",
    "# 2nd movie year is less or equal to the first movie year+9\n",
    "\n",
    "# using the above query, you can write the answer to the given question"
   ]
  },
  {
   "cell_type": "code",
   "execution_count": 16,
   "id": "d854fd40",
   "metadata": {},
   "outputs": [
    {
     "name": "stdout",
     "output_type": "stream",
     "text": [
      "         Decade  dec_t\n",
      "0  2008 to 2017   1203\n",
      "Wall time: 29.5 ms\n"
     ]
    }
   ],
   "source": [
    "%%time\n",
    "def grader_7(q7):\n",
    "    q7_results  = pd.read_sql_query(q7,conn)\n",
    "    print(q7_results.head(10))\n",
    "    assert (q7_results.shape == (1, 2))\n",
    "\n",
    "query7 = \"\"\" select year_A || \" to \"|| year_B Decade, sum(count_B) dec_t from \n",
    "(select A.year_n year_A ,A.c_m count_A, B.year_n+9 year_B,B.c_m count_B from \n",
    "(select CAST(SUBSTR(TRIM(year),-4) AS INTEGER) year_n, count(*) c_m\n",
    "from movie \n",
    "group by year_n) A Join \n",
    "(select CAST(SUBSTR(TRIM(year),-4) AS INTEGER) year_n, count(*) c_m \n",
    "from movie \n",
    "group by year_n) B \n",
    "on A.year_n = A.year_n \n",
    "where \n",
    "A.year_n+9 >= B.year_n and B.year_n>= A.year_n \n",
    "order by A.year_n) \n",
    "group by year_A \n",
    "order by dec_t \n",
    "Desc\n",
    "LIMIT 1\"\"\"\n",
    "grader_7(query7)\n",
    "# if you check the output we are printinng all the year in that decade, its fine you can print 2008 or 2008-2017"
   ]
  },
  {
   "cell_type": "markdown",
   "id": "3211a943",
   "metadata": {},
   "source": [
    "# 8"
   ]
  },
  {
   "cell_type": "code",
   "execution_count": 17,
   "id": "20e44c3b",
   "metadata": {},
   "outputs": [
    {
     "name": "stdout",
     "output_type": "stream",
     "text": [
      "         PID         PID  COUNT(*)\n",
      "0  nm0000180   nm0000027         1\n",
      "1  nm0000180   nm0001114         1\n",
      "2  nm0000180   nm0001919         1\n",
      "3  nm0000180   nm0006762         1\n",
      "4  nm0000180   nm0030062         1\n",
      "5  nm0000180   nm0038970         1\n",
      "6  nm0000180   nm0051856         1\n",
      "7  nm0000180   nm0085966         1\n",
      "8  nm0000180   nm0097889         1\n",
      "9  nm0000180   nm0125497         1\n",
      "(73408, 3)\n",
      "Wall time: 625 ms\n"
     ]
    }
   ],
   "source": [
    "%%time\n",
    "def grader_8a(q8a):\n",
    "    q8a_results  = pd.read_sql_query(q8a,conn)\n",
    "    print(q8a_results.head(10))\n",
    "    print(q8a_results.shape)\n",
    "    assert (q8a_results.shape == (73408, 3))\n",
    "\n",
    "query8a = \"\"\" SELECT MD.PID,MC.PID,COUNT(*) FROM  M_DIRECTOR MD INNER JOIN M_CAST MC ON MD.MID=MC.MID GROUP BY MD.PID,MC.PID\"\"\"\n",
    "grader_8a(query8a)\n",
    "\n",
    "# using the above query, you can write the answer to the given question"
   ]
  },
  {
   "cell_type": "code",
   "execution_count": 18,
   "id": "1de65143",
   "metadata": {},
   "outputs": [
    {
     "name": "stdout",
     "output_type": "stream",
     "text": [
      "                NAME  yash_count\n",
      "0        Jagdish Raj          11\n",
      "1   Manmohan Krishna          10\n",
      "2           Iftekhar           9\n",
      "3      Shashi Kapoor           7\n",
      "4      Rakhee Gulzar           5\n",
      "5     Waheeda Rehman           5\n",
      "6           Ravikant           4\n",
      "7     Achala Sachdev           4\n",
      "8        Neetu Singh           4\n",
      "9      Leela Chitnis           3\n",
      "(245, 2)\n",
      "Wall time: 1.96 s\n"
     ]
    }
   ],
   "source": [
    "%%time\n",
    "\n",
    "def grader_8(q8):\n",
    "    q8_results  = pd.read_sql_query(q8,conn)\n",
    "    print(q8_results.head(10))\n",
    "    print(q8_results.shape)\n",
    "    assert (q8_results.shape == (245, 2))\n",
    "\n",
    "total_num_movies = \"SELECT PERSON.NAME as dir_name, M_CAST.PID as actor_id ,COUNT(*) as count FROM MOVIE JOIN M_DIRECTOR ON MOVIE.MID = M_DIRECTOR.MID JOIN M_CAST ON M_CAST.MID = MOVIE.MID JOIN PERSON ON PERSON.PID = M_DIRECTOR.PID GROUP BY TRIM(M_CAST.PID), M_DIRECTOR.PID\"\n",
    "\n",
    "num_yash_movies = total_num_movies + \" HAVING TRIM(PERSON.NAME) IS 'Yash Chopra'\"\n",
    "\n",
    "num_yash_movies_actor_id = \"SELECT x.actor_id FROM (\" + num_yash_movies + \") as x\"\n",
    "\n",
    "non_yash_movies = \"SELECT actor_id, dir_name, MAX(count) as count FROM (\" + total_num_movies + \") GROUP BY actor_id HAVING TRIM(dir_name) <> 'Yash Chopra' AND actor_id IN(\" + num_yash_movies_actor_id + \")\"\n",
    "\n",
    "common_actor_yash_and_non_yash = \"SELECT PERSON.NAME, x.actor_id as Yash_actors, y.actor_id as Non_Yash_actors, x.count as yash_count, y.count as no_yash_count FROM (\" + num_yash_movies + \") as x LEFT OUTER JOIN (\" + non_yash_movies + \") as y ON x.actor_id = y.actor_id JOIN PERSON ON PERSON.PID = TRIM(x.actor_id) GROUP BY x.actor_id\"\n",
    "\n",
    "query8 = \"SELECT Name, yash_count FROM (\" + common_actor_yash_and_non_yash + \") WHERE yash_count >= no_yash_count OR no_yash_count IS NULL ORDER BY yash_count DESC\"\n",
    "grader_8(query8)"
   ]
  },
  {
   "cell_type": "markdown",
   "id": "c331fc98",
   "metadata": {},
   "source": [
    "# 9"
   ]
  },
  {
   "cell_type": "code",
   "execution_count": 19,
   "id": "7f4a1233",
   "metadata": {},
   "outputs": [
    {
     "name": "stdout",
     "output_type": "stream",
     "text": [
      "          PID\n",
      "0   nm0004418\n",
      "1   nm1995953\n",
      "2   nm2778261\n",
      "3   nm0631373\n",
      "4   nm0241935\n",
      "5   nm0792116\n",
      "6   nm1300111\n",
      "7   nm0196375\n",
      "8   nm1464837\n",
      "9   nm2868019\n",
      "(2382, 1)\n",
      "Wall time: 106 ms\n"
     ]
    }
   ],
   "source": [
    "%%time\n",
    "def grader_9a(q9a):\n",
    "    q9a_results  = pd.read_sql_query(q9a,conn)\n",
    "    print(q9a_results.head(10))\n",
    "    print(q9a_results.shape)\n",
    "    assert (q9a_results.shape == (2382, 1))\n",
    "\n",
    "query9a = \"\"\" SELECT DISTINCT(PID) FROM M_CAST WHERE TRIM(MID) IN (SELECT TRIM(MID) FROM M_CAST WHERE TRIM(PID) IN(SELECT TRIM(PID) FROM PERSON P WHERE TRIM(NAME)='Shah Rukh Khan')) AND TRIM(PID) NOT IN(SELECT TRIM(PID) FROM PERSON P WHERE TRIM(NAME)='Shah Rukh Khan');\"\"\"\n",
    "grader_9a(query9a)\n",
    "# using the above query, you can write the answer to the given question\n",
    "\n",
    "# selecting actors who acted with srk (S1)\n",
    "# selecting all movies where S1 actors acted, this forms S2 movies list\n",
    "# selecting all actors who acted in S2 movies, this gives us S2 actors along with S1 actors\n",
    "# removing S1 actors from the combined list of S1 & S2 actors, so that we get only S2 actors"
   ]
  },
  {
   "cell_type": "code",
   "execution_count": 20,
   "id": "2772ed4d",
   "metadata": {},
   "outputs": [
    {
     "name": "stdout",
     "output_type": "stream",
     "text": [
      "                     Name\n",
      "0            Freida Pinto\n",
      "1             Rohan Chand\n",
      "2            Damian Young\n",
      "3         Waris Ahluwalia\n",
      "4   Caroline Christl Long\n",
      "5           Rajeev Pahuja\n",
      "6       Michelle Santiago\n",
      "7         Alicia Vikander\n",
      "8            Dominic West\n",
      "9          Walton Goggins\n",
      "(25698, 1)\n",
      "Wall time: 471 ms\n"
     ]
    }
   ],
   "source": [
    "%%time\n",
    "def grader_9(q9):\n",
    "    q9_results  = pd.read_sql_query(q9,conn)\n",
    "    print(q9_results.head(10))\n",
    "    print(q9_results.shape)\n",
    "    assert (q9_results.shape == (25698, 1))\n",
    "\n",
    "query9 = \"\"\" WITH S1 AS(\n",
    "SELECT DISTINCT(PID) PID FROM M_CAST WHERE MID IN (SELECT MID FROM M_CAST WHERE TRIM(PID) IN(SELECT PID FROM PERSON P WHERE TRIM(NAME)='Shah Rukh Khan')) AND PID NOT IN(SELECT PID FROM PERSON P WHERE TRIM(NAME)='Shah Rukh Khan')),\n",
    "S2 AS(\n",
    "SELECT DISTINCT(MID) MID FROM M_CAST MC INNER JOIN S1 ON MC.PID=S1.PID),\n",
    "T1 AS(\n",
    "SELECT DISTINCT(PID) PID FROM M_CAST MC INNER JOIN S2 ON MC.MID=S2.MID)\n",
    "SELECT NAME FROM PERSON WHERE TRIM(PID) IN(SELECT TRIM(PID) FROM T1 WHERE PID NOT IN (SELECT PID FROM S1))  \"\"\"\n",
    "grader_9(query9)"
   ]
  },
  {
   "cell_type": "code",
   "execution_count": null,
   "id": "15c75438",
   "metadata": {},
   "outputs": [],
   "source": []
  }
 ],
 "metadata": {
  "kernelspec": {
   "display_name": "Python 3",
   "language": "python",
   "name": "python3"
  },
  "language_info": {
   "codemirror_mode": {
    "name": "ipython",
    "version": 3
   },
   "file_extension": ".py",
   "mimetype": "text/x-python",
   "name": "python",
   "nbconvert_exporter": "python",
   "pygments_lexer": "ipython3",
   "version": "3.8.8"
  }
 },
 "nbformat": 4,
 "nbformat_minor": 5
}
